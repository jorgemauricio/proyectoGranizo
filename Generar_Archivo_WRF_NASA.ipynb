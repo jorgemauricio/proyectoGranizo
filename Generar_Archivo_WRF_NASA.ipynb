{
 "cells": [
  {
   "cell_type": "code",
   "execution_count": 4,
   "metadata": {},
   "outputs": [
    {
     "name": "stdout",
     "output_type": "stream",
     "text": [
      "total 3418540\r\n",
      "-rw-rw-r-- 1 jorge jorge 219359874 mar  9 10:52 compilado_datos_NASA.csv\r\n",
      "-rw-rw-r-- 1 jorge jorge      2037 mar  2 14:30 Coordenadas_caniones.csv\r\n",
      "-rw-rw-r-- 1 jorge jorge   8372215 feb 28 22:50 dataEstacionFresno.csv\r\n",
      "-rw-rw-r-- 1 jorge jorge  46124550 mar  6 22:06 dataFromCanionesTestNASA_2014.csv\r\n",
      "-rw-rw-r-- 1 jorge jorge  56696895 mar  7 23:22 dataFromCanionesTestNASA_2015.csv\r\n",
      "-rw-rw-r-- 1 jorge jorge  56744086 mar  8 01:56 dataFromCanionesTestNASA_2016.csv\r\n",
      "-rw-rw-r-- 1 jorge jorge  51879077 mar  7 12:09 dataFromCanionesTestNASA_2017.csv\r\n",
      "-rw-rw-r-- 1 jorge jorge 172071400 feb 27 18:39 dataFromNASA_Compilado.csv\r\n",
      "-rw-rw-r-- 1 jorge jorge 157246818 mar  2 19:30 datos_inteporlados_1hr_wrf.csv\r\n",
      "-rw-rw-r-- 1 jorge jorge 317351588 mar  6 21:13 datos_inteporlados_30min_wrf.csv\r\n",
      "-rw-rw-r-- 1 jorge jorge 358614202 mar  9 16:37 datos_interpolados_30_min_con_formato_wrf.csv\r\n",
      "drwxrwxr-x 2 jorge jorge     20480 mar  9 11:16 graphs\r\n",
      "drwxrwxr-x 2 jorge jorge      4096 mar  2 16:15 hdf5\r\n",
      "drwxrwxr-x 2 jorge jorge      4096 mar  2 13:47 maps\r\n",
      "-rw-rw-r-- 1 jorge jorge    476006 mar  1 10:10 prueba3.zip\r\n",
      "-rw-rw-r-- 1 jorge jorge   1273594 mar  1 10:25 prueba4.zip\r\n",
      "-rw-rw-r-- 1 jorge jorge   1273594 mar  1 11:26 prueba5.zip\r\n",
      "-rw-rw-r-- 1 jorge jorge   1748089 mar  9 11:16 prueba6.zip\r\n",
      "-rw-rw-r-- 1 jorge jorge 315416923 mar  1 08:12 Resultado_2.csv\r\n",
      "-rw-rw-r-- 1 jorge jorge 315416923 mar  1 08:53 Resultado_3.csv\r\n",
      "-rw-rw-r-- 1 jorge jorge 315416923 mar  1 10:23 Resultado_4.csv\r\n",
      "-rw-rw-r-- 1 jorge jorge 336642336 mar  1 11:13 Resultado_5.csv\r\n",
      "-rw-rw-r-- 1 jorge jorge 465583540 mar  9 11:08 Resultado_6.csv\r\n",
      "-rw-rw-r-- 1 jorge jorge 302749637 feb 28 15:51 Resultado.csv\r\n",
      "-rw-rw-r-- 1 jorge jorge       174 mar  2 08:44 test.py\r\n"
     ]
    }
   ],
   "source": [
    "!ls -l data"
   ]
  },
  {
   "cell_type": "code",
   "execution_count": 2,
   "metadata": {},
   "outputs": [],
   "source": [
    "# librerias\n",
    "import pandas as pd\n",
    "import numpy as np\n",
    "import matplotlib.pyplot as plt\n",
    "%matplotlib inline"
   ]
  },
  {
   "cell_type": "code",
   "execution_count": 3,
   "metadata": {},
   "outputs": [],
   "source": [
    "dataNasa = pd.read_csv(\"data/compilado_datos_NASA.csv\")"
   ]
  },
  {
   "cell_type": "code",
   "execution_count": 6,
   "metadata": {},
   "outputs": [],
   "source": [
    "dataWrf = pd.read_csv(\"data/datos_interpolados_30_min_con_formato_wrf.csv\")"
   ]
  },
  {
   "cell_type": "code",
   "execution_count": 7,
   "metadata": {},
   "outputs": [
    {
     "data": {
      "text/html": [
       "<div>\n",
       "<style scoped>\n",
       "    .dataframe tbody tr th:only-of-type {\n",
       "        vertical-align: middle;\n",
       "    }\n",
       "\n",
       "    .dataframe tbody tr th {\n",
       "        vertical-align: top;\n",
       "    }\n",
       "\n",
       "    .dataframe thead th {\n",
       "        text-align: right;\n",
       "    }\n",
       "</style>\n",
       "<table border=\"1\" class=\"dataframe\">\n",
       "  <thead>\n",
       "    <tr style=\"text-align: right;\">\n",
       "      <th></th>\n",
       "      <th>Unnamed: 0</th>\n",
       "      <th>Canon</th>\n",
       "      <th>Estado</th>\n",
       "      <th>Nombre</th>\n",
       "      <th>Long</th>\n",
       "      <th>Lat</th>\n",
       "      <th>Year</th>\n",
       "      <th>Month</th>\n",
       "      <th>Day</th>\n",
       "      <th>Hour</th>\n",
       "      <th>RainIMR</th>\n",
       "    </tr>\n",
       "  </thead>\n",
       "  <tbody>\n",
       "    <tr>\n",
       "      <th>0</th>\n",
       "      <td>0</td>\n",
       "      <td>1</td>\n",
       "      <td>MICH</td>\n",
       "      <td>La Alberca</td>\n",
       "      <td>-102.006289</td>\n",
       "      <td>19.474989</td>\n",
       "      <td>2014</td>\n",
       "      <td>12</td>\n",
       "      <td>13</td>\n",
       "      <td>450</td>\n",
       "      <td>0.0</td>\n",
       "    </tr>\n",
       "    <tr>\n",
       "      <th>1</th>\n",
       "      <td>1</td>\n",
       "      <td>2</td>\n",
       "      <td>MICH</td>\n",
       "      <td>El Costo</td>\n",
       "      <td>-102.064453</td>\n",
       "      <td>19.448556</td>\n",
       "      <td>2014</td>\n",
       "      <td>12</td>\n",
       "      <td>13</td>\n",
       "      <td>450</td>\n",
       "      <td>0.0</td>\n",
       "    </tr>\n",
       "    <tr>\n",
       "      <th>2</th>\n",
       "      <td>2</td>\n",
       "      <td>3</td>\n",
       "      <td>MICH</td>\n",
       "      <td>El Fresno</td>\n",
       "      <td>-102.083000</td>\n",
       "      <td>19.492444</td>\n",
       "      <td>2014</td>\n",
       "      <td>12</td>\n",
       "      <td>13</td>\n",
       "      <td>450</td>\n",
       "      <td>0.0</td>\n",
       "    </tr>\n",
       "    <tr>\n",
       "      <th>3</th>\n",
       "      <td>3</td>\n",
       "      <td>4</td>\n",
       "      <td>MICH</td>\n",
       "      <td>Pajas 1</td>\n",
       "      <td>-102.061333</td>\n",
       "      <td>19.500167</td>\n",
       "      <td>2014</td>\n",
       "      <td>12</td>\n",
       "      <td>13</td>\n",
       "      <td>450</td>\n",
       "      <td>0.0</td>\n",
       "    </tr>\n",
       "    <tr>\n",
       "      <th>4</th>\n",
       "      <td>4</td>\n",
       "      <td>5</td>\n",
       "      <td>MICH</td>\n",
       "      <td>Pajas 2</td>\n",
       "      <td>-102.056250</td>\n",
       "      <td>19.510333</td>\n",
       "      <td>2014</td>\n",
       "      <td>12</td>\n",
       "      <td>13</td>\n",
       "      <td>450</td>\n",
       "      <td>0.0</td>\n",
       "    </tr>\n",
       "  </tbody>\n",
       "</table>\n",
       "</div>"
      ],
      "text/plain": [
       "   Unnamed: 0  Canon Estado      Nombre        Long        Lat  Year  Month  \\\n",
       "0           0      1   MICH  La Alberca -102.006289  19.474989  2014     12   \n",
       "1           1      2   MICH    El Costo -102.064453  19.448556  2014     12   \n",
       "2           2      3   MICH   El Fresno -102.083000  19.492444  2014     12   \n",
       "3           3      4   MICH     Pajas 1 -102.061333  19.500167  2014     12   \n",
       "4           4      5   MICH     Pajas 2 -102.056250  19.510333  2014     12   \n",
       "\n",
       "   Day  Hour  RainIMR  \n",
       "0   13   450      0.0  \n",
       "1   13   450      0.0  \n",
       "2   13   450      0.0  \n",
       "3   13   450      0.0  \n",
       "4   13   450      0.0  "
      ]
     },
     "execution_count": 7,
     "metadata": {},
     "output_type": "execute_result"
    }
   ],
   "source": [
    "dataNasa.head()"
   ]
  },
  {
   "cell_type": "code",
   "execution_count": 8,
   "metadata": {},
   "outputs": [
    {
     "data": {
      "text/html": [
       "<div>\n",
       "<style scoped>\n",
       "    .dataframe tbody tr th:only-of-type {\n",
       "        vertical-align: middle;\n",
       "    }\n",
       "\n",
       "    .dataframe tbody tr th {\n",
       "        vertical-align: top;\n",
       "    }\n",
       "\n",
       "    .dataframe thead th {\n",
       "        text-align: right;\n",
       "    }\n",
       "</style>\n",
       "<table border=\"1\" class=\"dataframe\">\n",
       "  <thead>\n",
       "    <tr style=\"text-align: right;\">\n",
       "      <th></th>\n",
       "      <th>Unnamed: 0</th>\n",
       "      <th>Canon</th>\n",
       "      <th>Estado</th>\n",
       "      <th>Nombre</th>\n",
       "      <th>Long</th>\n",
       "      <th>Lat</th>\n",
       "      <th>Year</th>\n",
       "      <th>Month</th>\n",
       "      <th>Day</th>\n",
       "      <th>Hour</th>\n",
       "      <th>GraupelWRF</th>\n",
       "      <th>RainWRF</th>\n",
       "      <th>TproWRF</th>\n",
       "      <th>Hora_Formato</th>\n",
       "    </tr>\n",
       "  </thead>\n",
       "  <tbody>\n",
       "    <tr>\n",
       "      <th>0</th>\n",
       "      <td>0</td>\n",
       "      <td>1</td>\n",
       "      <td>MICH</td>\n",
       "      <td>La Alberca</td>\n",
       "      <td>-102.006289</td>\n",
       "      <td>19.474989</td>\n",
       "      <td>2017</td>\n",
       "      <td>8</td>\n",
       "      <td>1</td>\n",
       "      <td>7.0</td>\n",
       "      <td>0.0</td>\n",
       "      <td>0.0</td>\n",
       "      <td>9.718108</td>\n",
       "      <td>07:00</td>\n",
       "    </tr>\n",
       "    <tr>\n",
       "      <th>1</th>\n",
       "      <td>1</td>\n",
       "      <td>1</td>\n",
       "      <td>MICH</td>\n",
       "      <td>La Alberca</td>\n",
       "      <td>-102.006289</td>\n",
       "      <td>19.474989</td>\n",
       "      <td>2017</td>\n",
       "      <td>8</td>\n",
       "      <td>1</td>\n",
       "      <td>7.5</td>\n",
       "      <td>0.0</td>\n",
       "      <td>0.0</td>\n",
       "      <td>3.527233</td>\n",
       "      <td>07:30</td>\n",
       "    </tr>\n",
       "    <tr>\n",
       "      <th>2</th>\n",
       "      <td>2</td>\n",
       "      <td>2</td>\n",
       "      <td>MICH</td>\n",
       "      <td>El Costo</td>\n",
       "      <td>-102.064453</td>\n",
       "      <td>19.448556</td>\n",
       "      <td>2017</td>\n",
       "      <td>8</td>\n",
       "      <td>1</td>\n",
       "      <td>7.0</td>\n",
       "      <td>0.0</td>\n",
       "      <td>0.0</td>\n",
       "      <td>9.824876</td>\n",
       "      <td>07:00</td>\n",
       "    </tr>\n",
       "    <tr>\n",
       "      <th>3</th>\n",
       "      <td>3</td>\n",
       "      <td>2</td>\n",
       "      <td>MICH</td>\n",
       "      <td>El Costo</td>\n",
       "      <td>-102.064453</td>\n",
       "      <td>19.448556</td>\n",
       "      <td>2017</td>\n",
       "      <td>8</td>\n",
       "      <td>1</td>\n",
       "      <td>7.5</td>\n",
       "      <td>0.0</td>\n",
       "      <td>0.0</td>\n",
       "      <td>3.565984</td>\n",
       "      <td>07:30</td>\n",
       "    </tr>\n",
       "    <tr>\n",
       "      <th>4</th>\n",
       "      <td>4</td>\n",
       "      <td>3</td>\n",
       "      <td>MICH</td>\n",
       "      <td>El Fresno</td>\n",
       "      <td>-102.083000</td>\n",
       "      <td>19.492444</td>\n",
       "      <td>2017</td>\n",
       "      <td>8</td>\n",
       "      <td>1</td>\n",
       "      <td>7.0</td>\n",
       "      <td>0.0</td>\n",
       "      <td>0.0</td>\n",
       "      <td>9.203693</td>\n",
       "      <td>07:00</td>\n",
       "    </tr>\n",
       "  </tbody>\n",
       "</table>\n",
       "</div>"
      ],
      "text/plain": [
       "   Unnamed: 0  Canon Estado      Nombre        Long        Lat  Year  Month  \\\n",
       "0           0      1   MICH  La Alberca -102.006289  19.474989  2017      8   \n",
       "1           1      1   MICH  La Alberca -102.006289  19.474989  2017      8   \n",
       "2           2      2   MICH    El Costo -102.064453  19.448556  2017      8   \n",
       "3           3      2   MICH    El Costo -102.064453  19.448556  2017      8   \n",
       "4           4      3   MICH   El Fresno -102.083000  19.492444  2017      8   \n",
       "\n",
       "   Day  Hour  GraupelWRF  RainWRF   TproWRF Hora_Formato  \n",
       "0    1   7.0         0.0      0.0  9.718108        07:00  \n",
       "1    1   7.5         0.0      0.0  3.527233        07:30  \n",
       "2    1   7.0         0.0      0.0  9.824876        07:00  \n",
       "3    1   7.5         0.0      0.0  3.565984        07:30  \n",
       "4    1   7.0         0.0      0.0  9.203693        07:00  "
      ]
     },
     "execution_count": 8,
     "metadata": {},
     "output_type": "execute_result"
    }
   ],
   "source": [
    "dataWrf.head()"
   ]
  },
  {
   "cell_type": "code",
   "execution_count": 12,
   "metadata": {},
   "outputs": [],
   "source": [
    "def generarHora(h):\n",
    "    hour = int(h / 60)\n",
    "    if hour < 10:\n",
    "        hour = \"0{}\".format(hour)\n",
    "    minutes = h % 60\n",
    "    if minutes < 10:\n",
    "        minutes = \"0{}\".format(minutes)\n",
    "    return \"{}:{}\".format(hour, minutes)"
   ]
  },
  {
   "cell_type": "code",
   "execution_count": 13,
   "metadata": {},
   "outputs": [],
   "source": [
    "dataNasa[\"Hora_Formato\"] = dataNasa.apply(lambda x: generarHora(x[\"Hour\"]), axis=1)"
   ]
  },
  {
   "cell_type": "code",
   "execution_count": 14,
   "metadata": {},
   "outputs": [
    {
     "data": {
      "text/html": [
       "<div>\n",
       "<style scoped>\n",
       "    .dataframe tbody tr th:only-of-type {\n",
       "        vertical-align: middle;\n",
       "    }\n",
       "\n",
       "    .dataframe tbody tr th {\n",
       "        vertical-align: top;\n",
       "    }\n",
       "\n",
       "    .dataframe thead th {\n",
       "        text-align: right;\n",
       "    }\n",
       "</style>\n",
       "<table border=\"1\" class=\"dataframe\">\n",
       "  <thead>\n",
       "    <tr style=\"text-align: right;\">\n",
       "      <th></th>\n",
       "      <th>Unnamed: 0</th>\n",
       "      <th>Canon</th>\n",
       "      <th>Estado</th>\n",
       "      <th>Nombre</th>\n",
       "      <th>Long</th>\n",
       "      <th>Lat</th>\n",
       "      <th>Year</th>\n",
       "      <th>Month</th>\n",
       "      <th>Day</th>\n",
       "      <th>Hour</th>\n",
       "      <th>RainIMR</th>\n",
       "      <th>Hora_Formato</th>\n",
       "    </tr>\n",
       "  </thead>\n",
       "  <tbody>\n",
       "    <tr>\n",
       "      <th>0</th>\n",
       "      <td>0</td>\n",
       "      <td>1</td>\n",
       "      <td>MICH</td>\n",
       "      <td>La Alberca</td>\n",
       "      <td>-102.006289</td>\n",
       "      <td>19.474989</td>\n",
       "      <td>2014</td>\n",
       "      <td>12</td>\n",
       "      <td>13</td>\n",
       "      <td>450</td>\n",
       "      <td>0.0</td>\n",
       "      <td>07:30</td>\n",
       "    </tr>\n",
       "    <tr>\n",
       "      <th>1</th>\n",
       "      <td>1</td>\n",
       "      <td>2</td>\n",
       "      <td>MICH</td>\n",
       "      <td>El Costo</td>\n",
       "      <td>-102.064453</td>\n",
       "      <td>19.448556</td>\n",
       "      <td>2014</td>\n",
       "      <td>12</td>\n",
       "      <td>13</td>\n",
       "      <td>450</td>\n",
       "      <td>0.0</td>\n",
       "      <td>07:30</td>\n",
       "    </tr>\n",
       "    <tr>\n",
       "      <th>2</th>\n",
       "      <td>2</td>\n",
       "      <td>3</td>\n",
       "      <td>MICH</td>\n",
       "      <td>El Fresno</td>\n",
       "      <td>-102.083000</td>\n",
       "      <td>19.492444</td>\n",
       "      <td>2014</td>\n",
       "      <td>12</td>\n",
       "      <td>13</td>\n",
       "      <td>450</td>\n",
       "      <td>0.0</td>\n",
       "      <td>07:30</td>\n",
       "    </tr>\n",
       "    <tr>\n",
       "      <th>3</th>\n",
       "      <td>3</td>\n",
       "      <td>4</td>\n",
       "      <td>MICH</td>\n",
       "      <td>Pajas 1</td>\n",
       "      <td>-102.061333</td>\n",
       "      <td>19.500167</td>\n",
       "      <td>2014</td>\n",
       "      <td>12</td>\n",
       "      <td>13</td>\n",
       "      <td>450</td>\n",
       "      <td>0.0</td>\n",
       "      <td>07:30</td>\n",
       "    </tr>\n",
       "    <tr>\n",
       "      <th>4</th>\n",
       "      <td>4</td>\n",
       "      <td>5</td>\n",
       "      <td>MICH</td>\n",
       "      <td>Pajas 2</td>\n",
       "      <td>-102.056250</td>\n",
       "      <td>19.510333</td>\n",
       "      <td>2014</td>\n",
       "      <td>12</td>\n",
       "      <td>13</td>\n",
       "      <td>450</td>\n",
       "      <td>0.0</td>\n",
       "      <td>07:30</td>\n",
       "    </tr>\n",
       "  </tbody>\n",
       "</table>\n",
       "</div>"
      ],
      "text/plain": [
       "   Unnamed: 0  Canon Estado      Nombre        Long        Lat  Year  Month  \\\n",
       "0           0      1   MICH  La Alberca -102.006289  19.474989  2014     12   \n",
       "1           1      2   MICH    El Costo -102.064453  19.448556  2014     12   \n",
       "2           2      3   MICH   El Fresno -102.083000  19.492444  2014     12   \n",
       "3           3      4   MICH     Pajas 1 -102.061333  19.500167  2014     12   \n",
       "4           4      5   MICH     Pajas 2 -102.056250  19.510333  2014     12   \n",
       "\n",
       "   Day  Hour  RainIMR Hora_Formato  \n",
       "0   13   450      0.0        07:30  \n",
       "1   13   450      0.0        07:30  \n",
       "2   13   450      0.0        07:30  \n",
       "3   13   450      0.0        07:30  \n",
       "4   13   450      0.0        07:30  "
      ]
     },
     "execution_count": 14,
     "metadata": {},
     "output_type": "execute_result"
    }
   ],
   "source": [
    "dataNasa.head()"
   ]
  },
  {
   "cell_type": "code",
   "execution_count": 15,
   "metadata": {},
   "outputs": [
    {
     "data": {
      "text/html": [
       "<div>\n",
       "<style scoped>\n",
       "    .dataframe tbody tr th:only-of-type {\n",
       "        vertical-align: middle;\n",
       "    }\n",
       "\n",
       "    .dataframe tbody tr th {\n",
       "        vertical-align: top;\n",
       "    }\n",
       "\n",
       "    .dataframe thead th {\n",
       "        text-align: right;\n",
       "    }\n",
       "</style>\n",
       "<table border=\"1\" class=\"dataframe\">\n",
       "  <thead>\n",
       "    <tr style=\"text-align: right;\">\n",
       "      <th></th>\n",
       "      <th>Unnamed: 0</th>\n",
       "      <th>Canon</th>\n",
       "      <th>Estado</th>\n",
       "      <th>Nombre</th>\n",
       "      <th>Long</th>\n",
       "      <th>Lat</th>\n",
       "      <th>Year</th>\n",
       "      <th>Month</th>\n",
       "      <th>Day</th>\n",
       "      <th>Hour</th>\n",
       "      <th>GraupelWRF</th>\n",
       "      <th>RainWRF</th>\n",
       "      <th>TproWRF</th>\n",
       "      <th>Hora_Formato</th>\n",
       "    </tr>\n",
       "  </thead>\n",
       "  <tbody>\n",
       "    <tr>\n",
       "      <th>0</th>\n",
       "      <td>0</td>\n",
       "      <td>1</td>\n",
       "      <td>MICH</td>\n",
       "      <td>La Alberca</td>\n",
       "      <td>-102.006289</td>\n",
       "      <td>19.474989</td>\n",
       "      <td>2017</td>\n",
       "      <td>8</td>\n",
       "      <td>1</td>\n",
       "      <td>7.0</td>\n",
       "      <td>0.0</td>\n",
       "      <td>0.0</td>\n",
       "      <td>9.718108</td>\n",
       "      <td>07:00</td>\n",
       "    </tr>\n",
       "    <tr>\n",
       "      <th>1</th>\n",
       "      <td>1</td>\n",
       "      <td>1</td>\n",
       "      <td>MICH</td>\n",
       "      <td>La Alberca</td>\n",
       "      <td>-102.006289</td>\n",
       "      <td>19.474989</td>\n",
       "      <td>2017</td>\n",
       "      <td>8</td>\n",
       "      <td>1</td>\n",
       "      <td>7.5</td>\n",
       "      <td>0.0</td>\n",
       "      <td>0.0</td>\n",
       "      <td>3.527233</td>\n",
       "      <td>07:30</td>\n",
       "    </tr>\n",
       "    <tr>\n",
       "      <th>2</th>\n",
       "      <td>2</td>\n",
       "      <td>2</td>\n",
       "      <td>MICH</td>\n",
       "      <td>El Costo</td>\n",
       "      <td>-102.064453</td>\n",
       "      <td>19.448556</td>\n",
       "      <td>2017</td>\n",
       "      <td>8</td>\n",
       "      <td>1</td>\n",
       "      <td>7.0</td>\n",
       "      <td>0.0</td>\n",
       "      <td>0.0</td>\n",
       "      <td>9.824876</td>\n",
       "      <td>07:00</td>\n",
       "    </tr>\n",
       "    <tr>\n",
       "      <th>3</th>\n",
       "      <td>3</td>\n",
       "      <td>2</td>\n",
       "      <td>MICH</td>\n",
       "      <td>El Costo</td>\n",
       "      <td>-102.064453</td>\n",
       "      <td>19.448556</td>\n",
       "      <td>2017</td>\n",
       "      <td>8</td>\n",
       "      <td>1</td>\n",
       "      <td>7.5</td>\n",
       "      <td>0.0</td>\n",
       "      <td>0.0</td>\n",
       "      <td>3.565984</td>\n",
       "      <td>07:30</td>\n",
       "    </tr>\n",
       "    <tr>\n",
       "      <th>4</th>\n",
       "      <td>4</td>\n",
       "      <td>3</td>\n",
       "      <td>MICH</td>\n",
       "      <td>El Fresno</td>\n",
       "      <td>-102.083000</td>\n",
       "      <td>19.492444</td>\n",
       "      <td>2017</td>\n",
       "      <td>8</td>\n",
       "      <td>1</td>\n",
       "      <td>7.0</td>\n",
       "      <td>0.0</td>\n",
       "      <td>0.0</td>\n",
       "      <td>9.203693</td>\n",
       "      <td>07:00</td>\n",
       "    </tr>\n",
       "  </tbody>\n",
       "</table>\n",
       "</div>"
      ],
      "text/plain": [
       "   Unnamed: 0  Canon Estado      Nombre        Long        Lat  Year  Month  \\\n",
       "0           0      1   MICH  La Alberca -102.006289  19.474989  2017      8   \n",
       "1           1      1   MICH  La Alberca -102.006289  19.474989  2017      8   \n",
       "2           2      2   MICH    El Costo -102.064453  19.448556  2017      8   \n",
       "3           3      2   MICH    El Costo -102.064453  19.448556  2017      8   \n",
       "4           4      3   MICH   El Fresno -102.083000  19.492444  2017      8   \n",
       "\n",
       "   Day  Hour  GraupelWRF  RainWRF   TproWRF Hora_Formato  \n",
       "0    1   7.0         0.0      0.0  9.718108        07:00  \n",
       "1    1   7.5         0.0      0.0  3.527233        07:30  \n",
       "2    1   7.0         0.0      0.0  9.824876        07:00  \n",
       "3    1   7.5         0.0      0.0  3.565984        07:30  \n",
       "4    1   7.0         0.0      0.0  9.203693        07:00  "
      ]
     },
     "execution_count": 15,
     "metadata": {},
     "output_type": "execute_result"
    }
   ],
   "source": [
    "dataWrf.head()"
   ]
  },
  {
   "cell_type": "code",
   "execution_count": 16,
   "metadata": {},
   "outputs": [],
   "source": [
    "data = pd.merge(dataNasa, dataWrf, how='inner', on=['Long', 'Lat','Year','Month','Day','Hora_Formato'])"
   ]
  },
  {
   "cell_type": "code",
   "execution_count": 18,
   "metadata": {},
   "outputs": [
    {
     "name": "stdout",
     "output_type": "stream",
     "text": [
      "<class 'pandas.core.frame.DataFrame'>\n",
      "Int64Index: 2316624 entries, 0 to 2316623\n",
      "Data columns (total 20 columns):\n",
      "Unnamed: 0_x    int64\n",
      "Canon_x         int64\n",
      "Estado_x        object\n",
      "Nombre_x        object\n",
      "Long            float64\n",
      "Lat             float64\n",
      "Year            int64\n",
      "Month           int64\n",
      "Day             int64\n",
      "Hour_x          int64\n",
      "RainIMR         float64\n",
      "Hora_Formato    object\n",
      "Unnamed: 0_y    int64\n",
      "Canon_y         int64\n",
      "Estado_y        object\n",
      "Nombre_y        object\n",
      "Hour_y          float64\n",
      "GraupelWRF      float64\n",
      "RainWRF         float64\n",
      "TproWRF         float64\n",
      "dtypes: float64(7), int64(8), object(5)\n",
      "memory usage: 371.2+ MB\n"
     ]
    }
   ],
   "source": [
    "data.info()"
   ]
  },
  {
   "cell_type": "code",
   "execution_count": 19,
   "metadata": {},
   "outputs": [
    {
     "name": "stdout",
     "output_type": "stream",
     "text": [
      "<class 'pandas.core.frame.DataFrame'>\n",
      "RangeIndex: 3328566 entries, 0 to 3328565\n",
      "Data columns (total 12 columns):\n",
      "Unnamed: 0      int64\n",
      "Canon           int64\n",
      "Estado          object\n",
      "Nombre          object\n",
      "Long            float64\n",
      "Lat             float64\n",
      "Year            int64\n",
      "Month           int64\n",
      "Day             int64\n",
      "Hour            int64\n",
      "RainIMR         float64\n",
      "Hora_Formato    object\n",
      "dtypes: float64(3), int64(6), object(3)\n",
      "memory usage: 304.7+ MB\n"
     ]
    }
   ],
   "source": [
    "dataNasa.info()"
   ]
  },
  {
   "cell_type": "code",
   "execution_count": 20,
   "metadata": {},
   "outputs": [
    {
     "name": "stdout",
     "output_type": "stream",
     "text": [
      "<class 'pandas.core.frame.DataFrame'>\n",
      "RangeIndex: 3730650 entries, 0 to 3730649\n",
      "Data columns (total 14 columns):\n",
      "Unnamed: 0      int64\n",
      "Canon           int64\n",
      "Estado          object\n",
      "Nombre          object\n",
      "Long            float64\n",
      "Lat             float64\n",
      "Year            int64\n",
      "Month           int64\n",
      "Day             int64\n",
      "Hour            float64\n",
      "GraupelWRF      float64\n",
      "RainWRF         float64\n",
      "TproWRF         float64\n",
      "Hora_Formato    object\n",
      "dtypes: float64(6), int64(5), object(3)\n",
      "memory usage: 398.5+ MB\n"
     ]
    }
   ],
   "source": [
    "dataWrf.info()"
   ]
  },
  {
   "cell_type": "code",
   "execution_count": 21,
   "metadata": {},
   "outputs": [],
   "source": [
    "data.to_csv(\"data/data_wrf_nasa.csv\")"
   ]
  },
  {
   "cell_type": "code",
   "execution_count": 22,
   "metadata": {},
   "outputs": [
    {
     "data": {
      "text/plain": [
       "Index(['Unnamed: 0_x', 'Canon_x', 'Estado_x', 'Nombre_x', 'Long', 'Lat',\n",
       "       'Year', 'Month', 'Day', 'Hour_x', 'RainIMR', 'Hora_Formato',\n",
       "       'Unnamed: 0_y', 'Canon_y', 'Estado_y', 'Nombre_y', 'Hour_y',\n",
       "       'GraupelWRF', 'RainWRF', 'TproWRF'],\n",
       "      dtype='object')"
      ]
     },
     "execution_count": 22,
     "metadata": {},
     "output_type": "execute_result"
    }
   ],
   "source": [
    "data.columns"
   ]
  },
  {
   "cell_type": "code",
   "execution_count": 23,
   "metadata": {},
   "outputs": [],
   "source": [
    "x = np.array(data[\"RainIMR\"])\n",
    "y = np.array(data[\"RainWRF\"])"
   ]
  },
  {
   "cell_type": "code",
   "execution_count": 24,
   "metadata": {},
   "outputs": [
    {
     "data": {
      "text/plain": [
       "<matplotlib.collections.PathCollection at 0x7f2d3047a518>"
      ]
     },
     "execution_count": 24,
     "metadata": {},
     "output_type": "execute_result"
    },
    {
     "data": {
      "image/png": "[encoded data removed]",
      "text/plain": [
       "<matplotlib.figure.Figure at 0x7f2d304745c0>"
      ]
     },
     "metadata": {},
     "output_type": "display_data"
    }
   ],
   "source": [
    "plt.scatter(x,y)"
   ]
  },
  {
   "cell_type": "code",
   "execution_count": 27,
   "metadata": {},
   "outputs": [
    {
     "data": {
      "text/plain": [
       "<matplotlib.axes._subplots.AxesSubplot at 0x7f2d304d6240>"
      ]
     },
     "execution_count": 27,
     "metadata": {},
     "output_type": "execute_result"
    },
    {
     "data": {
      "image/png": "[encoded data removed]",
      "text/plain": [
       "<matplotlib.figure.Figure at 0x7f2d2b161e80>"
      ]
     },
     "metadata": {},
     "output_type": "display_data"
    }
   ],
   "source": [
    "data[\"RainIMR\"].hist(bins=10)"
   ]
  },
  {
   "cell_type": "code",
   "execution_count": 28,
   "metadata": {},
   "outputs": [
    {
     "data": {
      "text/plain": [
       "<matplotlib.axes._subplots.AxesSubplot at 0x7f2d2b18f320>"
      ]
     },
     "execution_count": 28,
     "metadata": {},
     "output_type": "execute_result"
    },
    {
     "data": {
      "image/png": "[encoded data removed]",
      "text/plain": [
       "<matplotlib.figure.Figure at 0x7f2d2b12e630>"
      ]
     },
     "metadata": {},
     "output_type": "display_data"
    }
   ],
   "source": [
    "data[\"RainWRF\"].hist(bins=100)"
   ]
  },
  {
   "cell_type": "code",
   "execution_count": 29,
   "metadata": {},
   "outputs": [],
   "source": [
    "data[\"diffW_N\"] = abs(data[\"RainIMR\"] - data[\"RainWRF\"])"
   ]
  },
  {
   "cell_type": "code",
   "execution_count": null,
   "metadata": {},
   "outputs": [],
   "source": []
  },
  {
   "cell_type": "code",
   "execution_count": 31,
   "metadata": {},
   "outputs": [
    {
     "data": {
      "text/plain": [
       "<matplotlib.axes._subplots.AxesSubplot at 0x7f2d2b088eb8>"
      ]
     },
     "execution_count": 31,
     "metadata": {},
     "output_type": "execute_result"
    },
    {
     "data": {
      "image/png": "[encoded data removed]",
      "text/plain": [
       "<matplotlib.figure.Figure at 0x7f2d55f8a080>"
      ]
     },
     "metadata": {},
     "output_type": "display_data"
    }
   ],
   "source": [
    "data[\"diffW_N\"].hist(bins=20)"
   ]
  },
  {
   "cell_type": "code",
   "execution_count": 33,
   "metadata": {},
   "outputs": [
    {
     "data": {
      "text/plain": [
       "362839"
      ]
     },
     "execution_count": 33,
     "metadata": {},
     "output_type": "execute_result"
    }
   ],
   "source": [
    "len(data[data[\"diffW_N\"] > 0])"
   ]
  },
  {
   "cell_type": "code",
   "execution_count": null,
   "metadata": {},
   "outputs": [],
   "source": []
  }
 ],
 "metadata": {
  "kernelspec": {
   "display_name": "Python 3",
   "language": "python",
   "name": "python3"
  },
  "language_info": {
   "codemirror_mode": {
    "name": "ipython",
    "version": 3
   },
   "file_extension": ".py",
   "mimetype": "text/x-python",
   "name": "python",
   "nbconvert_exporter": "python",
   "pygments_lexer": "ipython3",
   "version": "3.5.4"
  }
 },
 "nbformat": 4,
 "nbformat_minor": 2
}
