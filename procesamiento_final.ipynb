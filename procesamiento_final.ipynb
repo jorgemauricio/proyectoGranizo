{
 "cells": [
  {
   "cell_type": "code",
   "execution_count": 2,
   "metadata": {},
   "outputs": [],
   "source": [
    "import pandas as pd\n",
    "import numpy as np\n",
    "import matplotlib.pyplot as plt\n",
    "import seaborn as sns\n",
    "from scipy.optimize import curve_fit\n",
    "%matplotlib inline"
   ]
  },
  {
   "cell_type": "code",
   "execution_count": 3,
   "metadata": {},
   "outputs": [],
   "source": [
    "data = pd.read_csv(\"data/merge_5.csv\")"
   ]
  },
  {
   "cell_type": "code",
   "execution_count": 4,
   "metadata": {},
   "outputs": [
    {
     "name": "stdout",
     "output_type": "stream",
     "text": [
      "<class 'pandas.core.frame.DataFrame'>\n",
      "RangeIndex: 538633 entries, 0 to 538632\n",
      "Data columns (total 56 columns):\n",
      "Unnamed: 0             538633 non-null int64\n",
      "Unnamed: 0.1           538633 non-null int64\n",
      "Canon_x                538633 non-null int64\n",
      "Estado_x               538633 non-null object\n",
      "Nombre_x               538633 non-null object\n",
      "Long                   538633 non-null float64\n",
      "Lat                    538633 non-null float64\n",
      "Year                   538633 non-null int64\n",
      "Month                  538633 non-null int64\n",
      "Day                    538633 non-null int64\n",
      "Hour_x                 538633 non-null int64\n",
      "RainIMR                538633 non-null float64\n",
      "RainIMR_posterior_1    538633 non-null float64\n",
      "RainIMR_posterior_2    538633 non-null float64\n",
      "diff_previa_x          538633 non-null float64\n",
      "diff_posterior_x       538633 non-null float64\n",
      "Rango_previo_x         538633 non-null object\n",
      "Rango_posterior_x      538633 non-null object\n",
      "validacionEvento_x     538633 non-null int64\n",
      "Fecha_x                538633 non-null object\n",
      "Hora                   538633 non-null object\n",
      "0pre_x                 538633 non-null int64\n",
      "1-5pre_x               538633 non-null int64\n",
      "20-25pre_x             538633 non-null int64\n",
      "5-10pre_x              538633 non-null int64\n",
      "10-15pre_x             538633 non-null int64\n",
      "15-20pre_x             538633 non-null int64\n",
      "25-30pre_x             538633 non-null int64\n",
      "0_x                    538633 non-null int64\n",
      ">30pre_x               538633 non-null int64\n",
      "Canon_y                538633 non-null int64\n",
      "Estado_y               538633 non-null object\n",
      "Nombre_y               538633 non-null object\n",
      "Hour_y                 538633 non-null float64\n",
      "RainWRF                538633 non-null float64\n",
      "RainWRF_posterior_1    538633 non-null float64\n",
      "RainWRF_posterior_2    538633 non-null float64\n",
      "diff_previa_y          538633 non-null float64\n",
      "diff_posterior_y       538633 non-null float64\n",
      "Rango_previo_y         538633 non-null object\n",
      "Rango_posterior_y      538633 non-null object\n",
      "validacionEvento_y     538633 non-null int64\n",
      "Fecha_y                538633 non-null object\n",
      "Hora_Formato           538633 non-null object\n",
      "0pre_y                 538633 non-null int64\n",
      "1-5pre_y               538633 non-null int64\n",
      "5-10pre_y              538633 non-null int64\n",
      ">30pre_y               538633 non-null int64\n",
      "20-25pre_y             538633 non-null int64\n",
      "10-15pre_y             538633 non-null int64\n",
      "0_y                    538633 non-null int64\n",
      "25-30pre_y             538633 non-null int64\n",
      "15-20pre_y             538633 non-null int64\n",
      "Estación               538633 non-null object\n",
      "Reflectividad_IMR      538633 non-null float64\n",
      "Reflectividad_WRF      538633 non-null float64\n",
      "dtypes: float64(15), int64(28), object(13)\n",
      "memory usage: 230.1+ MB\n"
     ]
    }
   ],
   "source": [
    "data.info()"
   ]
  },
  {
   "cell_type": "code",
   "execution_count": null,
   "metadata": {},
   "outputs": [],
   "source": [
    "data = data.loc[(data[\"RainIMR\"] > 0) | (data[\"RainWRF\"] > 0)]"
   ]
  },
  {
   "cell_type": "code",
   "execution_count": null,
   "metadata": {},
   "outputs": [],
   "source": [
    "data.info()"
   ]
  },
  {
   "cell_type": "code",
   "execution_count": null,
   "metadata": {},
   "outputs": [],
   "source": [
    "data.to_csv(\"data/merge_5.csv\")"
   ]
  },
  {
   "cell_type": "code",
   "execution_count": null,
   "metadata": {},
   "outputs": [],
   "source": [
    "g = sns.jointplot(\"diff_previa_x\", \"diff_previa_y\", data=data, kind=\"reg\")"
   ]
  },
  {
   "cell_type": "code",
   "execution_count": null,
   "metadata": {},
   "outputs": [],
   "source": [
    "g = sns.jointplot(\"diff_previa_x\", \"diff_previa_y\", data=data, kind=\"reg\")"
   ]
  },
  {
   "cell_type": "code",
   "execution_count": null,
   "metadata": {},
   "outputs": [],
   "source": [
    "sns.set(rc={'figure.figsize':(10,10)})"
   ]
  },
  {
   "cell_type": "code",
   "execution_count": null,
   "metadata": {},
   "outputs": [],
   "source": [
    "g = sns.regplot(\"diff_previa_x\", \"diff_previa_y\", data=data, order=2)"
   ]
  },
  {
   "cell_type": "code",
   "execution_count": null,
   "metadata": {},
   "outputs": [],
   "source": [
    "g = sns.regplot(\"diff_previa_x\", \"diff_previa_y\", data=data, x_estimator=np.mean, logx=True, truncate=True)"
   ]
  },
  {
   "cell_type": "code",
   "execution_count": null,
   "metadata": {},
   "outputs": [],
   "source": [
    "sns.regplot(\"diff_previa_x\", \"diff_previa_y\", data, scatter_kws={\"s\": 10})"
   ]
  },
  {
   "cell_type": "code",
   "execution_count": null,
   "metadata": {},
   "outputs": [],
   "source": [
    "x = np.array(data[\"diff_previa_x\"])\n",
    "y = np.array(data[\"diff_previa_y\"])\n",
    "yn = y + 0.3*np.random.normal(size=len(x))\n",
    "\n",
    "def func(x, a, b, c):\n",
    "    #return a * np.exp(-b * x) + c\n",
    "    return a * np.log(b * x) + c\n",
    "\n",
    "popt, pcov = curve_fit(func, x, yn)\n",
    "\n",
    "plt.figure()\n",
    "plt.plot(x, yn, 'ko', label=\"Original Noised Data\")\n",
    "plt.plot(x, func(x, *popt), 'r', label=\"Fitted Curve\")\n",
    "plt.legend()\n",
    "plt.show()"
   ]
  },
  {
   "cell_type": "code",
   "execution_count": null,
   "metadata": {},
   "outputs": [],
   "source": [
    "sns.lvplot(x=data[\"Estación\"], y=data[\"diff_previa_x\"])"
   ]
  },
  {
   "cell_type": "code",
   "execution_count": null,
   "metadata": {},
   "outputs": [],
   "source": [
    "sns.jointplot(x=\"diff_previa_x\", y=\"diff_previa_y\", data=data,kind=\"kde\", color=\"k\");"
   ]
  },
  {
   "cell_type": "code",
   "execution_count": null,
   "metadata": {},
   "outputs": [],
   "source": [
    "data.info()"
   ]
  },
  {
   "cell_type": "code",
   "execution_count": null,
   "metadata": {},
   "outputs": [],
   "source": [
    "sns.residplot(x, y, lowess=True, color=\"g\")"
   ]
  },
  {
   "cell_type": "code",
   "execution_count": null,
   "metadata": {},
   "outputs": [],
   "source": [
    "sns.lmplot(x=\"RainIMR\", y=\"RainWRF\", data=data, logistic=True, y_jitter=.5);"
   ]
  },
  {
   "cell_type": "code",
   "execution_count": null,
   "metadata": {},
   "outputs": [],
   "source": [
    "data.columns"
   ]
  },
  {
   "cell_type": "code",
   "execution_count": null,
   "metadata": {},
   "outputs": [],
   "source": [
    "g = sns.PairGrid(data[['RainIMR', 'RainWRF', 'Reflectividad_IMR', 'Reflectividad_WRF']], diag_sharey=False)\n",
    "g.map_lower(sns.kdeplot, cmap=\"Blues_d\")\n",
    "g.map_upper(plt.scatter)\n",
    "g.map_diag(sns.kdeplot, lw=2)"
   ]
  },
  {
   "cell_type": "code",
   "execution_count": 5,
   "metadata": {},
   "outputs": [
    {
     "data": {
      "text/html": [
       "<div>\n",
       "<style scoped>\n",
       "    .dataframe tbody tr th:only-of-type {\n",
       "        vertical-align: middle;\n",
       "    }\n",
       "\n",
       "    .dataframe tbody tr th {\n",
       "        vertical-align: top;\n",
       "    }\n",
       "\n",
       "    .dataframe thead th {\n",
       "        text-align: right;\n",
       "    }\n",
       "</style>\n",
       "<table border=\"1\" class=\"dataframe\">\n",
       "  <thead>\n",
       "    <tr style=\"text-align: right;\">\n",
       "      <th></th>\n",
       "      <th>Unnamed: 0</th>\n",
       "      <th>Unnamed: 0.1</th>\n",
       "      <th>Canon_x</th>\n",
       "      <th>Estado_x</th>\n",
       "      <th>Nombre_x</th>\n",
       "      <th>Long</th>\n",
       "      <th>Lat</th>\n",
       "      <th>Year</th>\n",
       "      <th>Month</th>\n",
       "      <th>Day</th>\n",
       "      <th>...</th>\n",
       "      <th>5-10pre_y</th>\n",
       "      <th>&gt;30pre_y</th>\n",
       "      <th>20-25pre_y</th>\n",
       "      <th>10-15pre_y</th>\n",
       "      <th>0_y</th>\n",
       "      <th>25-30pre_y</th>\n",
       "      <th>15-20pre_y</th>\n",
       "      <th>Estación</th>\n",
       "      <th>Reflectividad_IMR</th>\n",
       "      <th>Reflectividad_WRF</th>\n",
       "    </tr>\n",
       "  </thead>\n",
       "  <tbody>\n",
       "    <tr>\n",
       "      <th>0</th>\n",
       "      <td>506</td>\n",
       "      <td>506</td>\n",
       "      <td>1</td>\n",
       "      <td>MICH</td>\n",
       "      <td>La Alberca</td>\n",
       "      <td>-102.006289</td>\n",
       "      <td>19.474989</td>\n",
       "      <td>2014</td>\n",
       "      <td>3</td>\n",
       "      <td>22</td>\n",
       "      <td>...</td>\n",
       "      <td>0</td>\n",
       "      <td>0</td>\n",
       "      <td>0</td>\n",
       "      <td>0</td>\n",
       "      <td>0</td>\n",
       "      <td>0</td>\n",
       "      <td>0</td>\n",
       "      <td>SPRING</td>\n",
       "      <td>6.993812</td>\n",
       "      <td>0.0</td>\n",
       "    </tr>\n",
       "    <tr>\n",
       "      <th>1</th>\n",
       "      <td>507</td>\n",
       "      <td>507</td>\n",
       "      <td>1</td>\n",
       "      <td>MICH</td>\n",
       "      <td>La Alberca</td>\n",
       "      <td>-102.006289</td>\n",
       "      <td>19.474989</td>\n",
       "      <td>2014</td>\n",
       "      <td>3</td>\n",
       "      <td>22</td>\n",
       "      <td>...</td>\n",
       "      <td>0</td>\n",
       "      <td>0</td>\n",
       "      <td>0</td>\n",
       "      <td>0</td>\n",
       "      <td>0</td>\n",
       "      <td>0</td>\n",
       "      <td>0</td>\n",
       "      <td>SPRING</td>\n",
       "      <td>6.993812</td>\n",
       "      <td>0.0</td>\n",
       "    </tr>\n",
       "    <tr>\n",
       "      <th>2</th>\n",
       "      <td>613</td>\n",
       "      <td>613</td>\n",
       "      <td>1</td>\n",
       "      <td>MICH</td>\n",
       "      <td>La Alberca</td>\n",
       "      <td>-102.006289</td>\n",
       "      <td>19.474989</td>\n",
       "      <td>2014</td>\n",
       "      <td>3</td>\n",
       "      <td>24</td>\n",
       "      <td>...</td>\n",
       "      <td>0</td>\n",
       "      <td>0</td>\n",
       "      <td>0</td>\n",
       "      <td>0</td>\n",
       "      <td>0</td>\n",
       "      <td>0</td>\n",
       "      <td>0</td>\n",
       "      <td>SPRING</td>\n",
       "      <td>-0.577230</td>\n",
       "      <td>0.0</td>\n",
       "    </tr>\n",
       "    <tr>\n",
       "      <th>3</th>\n",
       "      <td>614</td>\n",
       "      <td>614</td>\n",
       "      <td>1</td>\n",
       "      <td>MICH</td>\n",
       "      <td>La Alberca</td>\n",
       "      <td>-102.006289</td>\n",
       "      <td>19.474989</td>\n",
       "      <td>2014</td>\n",
       "      <td>3</td>\n",
       "      <td>24</td>\n",
       "      <td>...</td>\n",
       "      <td>0</td>\n",
       "      <td>0</td>\n",
       "      <td>0</td>\n",
       "      <td>0</td>\n",
       "      <td>0</td>\n",
       "      <td>0</td>\n",
       "      <td>0</td>\n",
       "      <td>SPRING</td>\n",
       "      <td>-0.577230</td>\n",
       "      <td>0.0</td>\n",
       "    </tr>\n",
       "    <tr>\n",
       "      <th>4</th>\n",
       "      <td>830</td>\n",
       "      <td>830</td>\n",
       "      <td>1</td>\n",
       "      <td>MICH</td>\n",
       "      <td>La Alberca</td>\n",
       "      <td>-102.006289</td>\n",
       "      <td>19.474989</td>\n",
       "      <td>2014</td>\n",
       "      <td>3</td>\n",
       "      <td>29</td>\n",
       "      <td>...</td>\n",
       "      <td>0</td>\n",
       "      <td>0</td>\n",
       "      <td>0</td>\n",
       "      <td>0</td>\n",
       "      <td>0</td>\n",
       "      <td>0</td>\n",
       "      <td>0</td>\n",
       "      <td>SPRING</td>\n",
       "      <td>-0.577230</td>\n",
       "      <td>0.0</td>\n",
       "    </tr>\n",
       "  </tbody>\n",
       "</table>\n",
       "<p>5 rows × 56 columns</p>\n",
       "</div>"
      ],
      "text/plain": [
       "   Unnamed: 0  Unnamed: 0.1  Canon_x Estado_x    Nombre_x        Long  \\\n",
       "0         506           506        1     MICH  La Alberca -102.006289   \n",
       "1         507           507        1     MICH  La Alberca -102.006289   \n",
       "2         613           613        1     MICH  La Alberca -102.006289   \n",
       "3         614           614        1     MICH  La Alberca -102.006289   \n",
       "4         830           830        1     MICH  La Alberca -102.006289   \n",
       "\n",
       "         Lat  Year  Month  Day        ...         5-10pre_y  >30pre_y  \\\n",
       "0  19.474989  2014      3   22        ...                 0         0   \n",
       "1  19.474989  2014      3   22        ...                 0         0   \n",
       "2  19.474989  2014      3   24        ...                 0         0   \n",
       "3  19.474989  2014      3   24        ...                 0         0   \n",
       "4  19.474989  2014      3   29        ...                 0         0   \n",
       "\n",
       "   20-25pre_y  10-15pre_y  0_y  25-30pre_y 15-20pre_y Estación  \\\n",
       "0           0           0    0           0          0   SPRING   \n",
       "1           0           0    0           0          0   SPRING   \n",
       "2           0           0    0           0          0   SPRING   \n",
       "3           0           0    0           0          0   SPRING   \n",
       "4           0           0    0           0          0   SPRING   \n",
       "\n",
       "   Reflectividad_IMR Reflectividad_WRF  \n",
       "0           6.993812               0.0  \n",
       "1           6.993812               0.0  \n",
       "2          -0.577230               0.0  \n",
       "3          -0.577230               0.0  \n",
       "4          -0.577230               0.0  \n",
       "\n",
       "[5 rows x 56 columns]"
      ]
     },
     "execution_count": 5,
     "metadata": {},
     "output_type": "execute_result"
    }
   ],
   "source": [
    "data.head()"
   ]
  },
  {
   "cell_type": "code",
   "execution_count": 6,
   "metadata": {},
   "outputs": [
    {
     "data": {
      "text/plain": [
       "Index(['Unnamed: 0', 'Unnamed: 0.1', 'Canon_x', 'Estado_x', 'Nombre_x', 'Long',\n",
       "       'Lat', 'Year', 'Month', 'Day', 'Hour_x', 'RainIMR',\n",
       "       'RainIMR_posterior_1', 'RainIMR_posterior_2', 'diff_previa_x',\n",
       "       'diff_posterior_x', 'Rango_previo_x', 'Rango_posterior_x',\n",
       "       'validacionEvento_x', 'Fecha_x', 'Hora', '0pre_x', '1-5pre_x',\n",
       "       '20-25pre_x', '5-10pre_x', '10-15pre_x', '15-20pre_x', '25-30pre_x',\n",
       "       '0_x', '>30pre_x', 'Canon_y', 'Estado_y', 'Nombre_y', 'Hour_y',\n",
       "       'RainWRF', 'RainWRF_posterior_1', 'RainWRF_posterior_2',\n",
       "       'diff_previa_y', 'diff_posterior_y', 'Rango_previo_y',\n",
       "       'Rango_posterior_y', 'validacionEvento_y', 'Fecha_y', 'Hora_Formato',\n",
       "       '0pre_y', '1-5pre_y', '5-10pre_y', '>30pre_y', '20-25pre_y',\n",
       "       '10-15pre_y', '0_y', '25-30pre_y', '15-20pre_y', 'Estación',\n",
       "       'Reflectividad_IMR', 'Reflectividad_WRF'],\n",
       "      dtype='object')"
      ]
     },
     "execution_count": 6,
     "metadata": {},
     "output_type": "execute_result"
    }
   ],
   "source": [
    "data.columns"
   ]
  },
  {
   "cell_type": "code",
   "execution_count": 11,
   "metadata": {},
   "outputs": [
    {
     "data": {
      "text/plain": [
       "{'bodies': [<matplotlib.collections.PolyCollection at 0x7fd438945cf8>],\n",
       " 'cbars': <matplotlib.collections.LineCollection at 0x7fd4388cd3c8>,\n",
       " 'cmaxes': <matplotlib.collections.LineCollection at 0x7fd4389af9b0>,\n",
       " 'cmins': <matplotlib.collections.LineCollection at 0x7fd4388cd128>}"
      ]
     },
     "execution_count": 11,
     "metadata": {},
     "output_type": "execute_result"
    },
    {
     "data": {
      "image/png": "[encoded data removed]",
      "text/plain": [
       "<matplotlib.figure.Figure at 0x7fd4389af208>"
      ]
     },
     "metadata": {},
     "output_type": "display_data"
    }
   ],
   "source": [
    "fig, ax = plt.subplots()\n",
    "ax.violinplot(data[\"Reflectividad_IMR\"], vert=False)"
   ]
  },
  {
   "cell_type": "code",
   "execution_count": null,
   "metadata": {},
   "outputs": [],
   "source": []
  }
 ],
 "metadata": {
  "kernelspec": {
   "display_name": "Python 3",
   "language": "python",
   "name": "python3"
  },
  "language_info": {
   "codemirror_mode": {
    "name": "ipython",
    "version": 3
   },
   "file_extension": ".py",
   "mimetype": "text/x-python",
   "name": "python",
   "nbconvert_exporter": "python",
   "pygments_lexer": "ipython3",
   "version": "3.5.4"
  }
 },
 "nbformat": 4,
 "nbformat_minor": 2
}
